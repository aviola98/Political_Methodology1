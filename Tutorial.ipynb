{
 "cells": [
  {
   "cell_type": "markdown",
   "id": "e60777de",
   "metadata": {},
   "source": [
    "<h1 style=\"font-size=3rem;color:blue;\"> Tutorial</h1>"
   ]
  },
  {
   "cell_type": "markdown",
   "id": "7e0b1420",
   "metadata": {},
   "source": [
    "# Python in Jupyter"
   ]
  },
  {
   "cell_type": "code",
   "execution_count": 1,
   "id": "87517c1a",
   "metadata": {},
   "outputs": [
    {
     "name": "stdout",
     "output_type": "stream",
     "text": [
      "This is a tutorial\n"
     ]
    }
   ],
   "source": [
    "print(\"This is a tutorial\")"
   ]
  },
  {
   "cell_type": "code",
   "execution_count": 2,
   "id": "ed7222b2",
   "metadata": {},
   "outputs": [
    {
     "name": "stdout",
     "output_type": "stream",
     "text": [
      "What's your name?Aziz\n",
      "Hello Aziz!\n"
     ]
    }
   ],
   "source": [
    "person = input(\"What's your name?\")\n",
    "message = \"Hello {}!\".format(person)\n",
    "print(message)"
   ]
  },
  {
   "cell_type": "code",
   "execution_count": 3,
   "id": "048cb6de",
   "metadata": {},
   "outputs": [
    {
     "name": "stdout",
     "output_type": "stream",
     "text": [
      "I hope to be using Jupyter for my next Python code\n",
      "50\n"
     ]
    }
   ],
   "source": [
    "story = \"\"\"I hope to be using Jupyter for my next Python code\"\"\"\n",
    "print(story)\n",
    "print(len(story))"
   ]
  },
  {
   "cell_type": "code",
   "execution_count": 4,
   "id": "aa0fd4bb",
   "metadata": {},
   "outputs": [
    {
     "name": "stdout",
     "output_type": "stream",
     "text": [
      "5.25\n",
      "1\n"
     ]
    }
   ],
   "source": [
    "x = 7\n",
    "y=4\n",
    "z=(x*3)/y\n",
    "m=(x*3)%y\n",
    "print(z)\n",
    "print(m)"
   ]
  },
  {
   "cell_type": "code",
   "execution_count": 5,
   "id": "14cd4664",
   "metadata": {},
   "outputs": [
    {
     "name": "stdout",
     "output_type": "stream",
     "text": [
      "Massayuki\n"
     ]
    }
   ],
   "source": [
    "friends = ['Malek','Aziz','Massayuki','Jaen']\n",
    "print(friends[2])"
   ]
  },
  {
   "cell_type": "code",
   "execution_count": null,
   "id": "2ed7329d",
   "metadata": {},
   "outputs": [],
   "source": []
  }
 ],
 "metadata": {
  "kernelspec": {
   "display_name": "Python 3 (ipykernel)",
   "language": "python",
   "name": "python3"
  },
  "language_info": {
   "codemirror_mode": {
    "name": "ipython",
    "version": 3
   },
   "file_extension": ".py",
   "mimetype": "text/x-python",
   "name": "python",
   "nbconvert_exporter": "python",
   "pygments_lexer": "ipython3",
   "version": "3.8.5"
  }
 },
 "nbformat": 4,
 "nbformat_minor": 5
}
