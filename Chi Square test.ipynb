{
 "cells": [
  {
   "cell_type": "code",
   "execution_count": 14,
   "id": "383d0b47",
   "metadata": {},
   "outputs": [
    {
     "name": "stdout",
     "output_type": "stream",
     "text": [
      "   Incumbente   Esp  Oposição  Esp2\n",
      "0        38.1  37.6      57.6  58.1\n",
      "1        36.4  36.9      57.6  57.1\n"
     ]
    }
   ],
   "source": [
    "import pandas as pd\n",
    "from scipy import stats\n",
    "import pandas as pd\n",
    "from scipy.stats import chi2_contingency \n",
    "#2002\n",
    "data = {\n",
    "                   'Incumbente':[38.1,36.4],\n",
    "                   'Esp':[37.6,36.9],\n",
    "                   'Oposição':[57.6,57.6],\n",
    "    'Esp2':[58.1,57.1]\n",
    "\n",
    "}\n",
    "\n",
    "#data = {\n",
    "             #      'Incumbente':[38.1,36.4],\n",
    "                  \n",
    "     #              'Oposição':[57.6,57.6],\n",
    "\n",
    "          #         }\n",
    "\n",
    "df = pd.DataFrame(data)\n",
    "print(df)"
   ]
  },
  {
   "cell_type": "code",
   "execution_count": 15,
   "id": "5a9c3800",
   "metadata": {},
   "outputs": [
    {
     "data": {
      "text/plain": [
       "(0.023582415113510946,\n",
       " 0.9990436193434491,\n",
       " 3,\n",
       " array([[37.58381655, 37.58381655, 58.11618345, 58.11618345],\n",
       "        [36.91618345, 36.91618345, 57.08381655, 57.08381655]]))"
      ]
     },
     "execution_count": 15,
     "metadata": {},
     "output_type": "execute_result"
    }
   ],
   "source": [
    "chiVal, piVal, df, exp = chi2_contingency(df)\n",
    "chiVal, piVal, df, exp\n",
    "#p>5% we cant reject the null hypotesis"
   ]
  },
  {
   "cell_type": "code",
   "execution_count": 18,
   "id": "2698f30b",
   "metadata": {},
   "outputs": [
    {
     "name": "stdout",
     "output_type": "stream",
     "text": [
      "   Incumbente   Esp  Oposição  Esp2\n",
      "0        43.9  50.8      51.2  44.3\n",
      "1        57.2  50.3      36.8  43.7\n"
     ]
    }
   ],
   "source": [
    "#2006\n",
    "data = {'Incumbente':[43.9,57.2],\n",
    "       'Esp':[50.8,50.3],\n",
    "       'Oposição':[51.2,36.8],\n",
    "       'Esp2':[44.3,43.7]}\n",
    "\n",
    "\n",
    "df = pd.DataFrame(data)\n",
    "\n",
    "print(df)"
   ]
  },
  {
   "cell_type": "code",
   "execution_count": 19,
   "id": "1bc683dd",
   "metadata": {},
   "outputs": [
    {
     "data": {
      "text/plain": [
       "(4.099922423530318,\n",
       " 0.2508745029906502,\n",
       " 3,\n",
       " array([[50.84405077, 50.84405077, 44.25594923, 44.25594923],\n",
       "        [50.25594923, 50.25594923, 43.74405077, 43.74405077]]))"
      ]
     },
     "execution_count": 19,
     "metadata": {},
     "output_type": "execute_result"
    }
   ],
   "source": [
    "chiVal, piVal, df, exp = chi2_contingency(df)\n",
    "chiVal, piVal, df, exp\n",
    "#p-value<5% we can reject the null Hypotesis"
   ]
  },
  {
   "cell_type": "code",
   "execution_count": 20,
   "id": "ffcec7a0",
   "metadata": {},
   "outputs": [
    {
     "name": "stdout",
     "output_type": "stream",
     "text": [
      "   Incumbente   Esp  Oposição  Esp2\n",
      "0        38.7  45.8        56  48.9\n",
      "1        52.3  45.2        41  48.1\n"
     ]
    }
   ],
   "source": [
    "#2010\n",
    "data = {'Incumbente':[38.7,52.3],\n",
    "       'Esp':[45.8,45.2],\n",
    "       'Oposição':[56,41],\n",
    "       'Esp2':[48.9,48.1]}\n",
    "\n",
    "\n",
    "df = pd.DataFrame(data)\n",
    "\n",
    "print(df)"
   ]
  },
  {
   "cell_type": "code",
   "execution_count": 21,
   "id": "5297b02b",
   "metadata": {},
   "outputs": [
    {
     "data": {
      "text/plain": [
       "(4.342058808348524,\n",
       " 0.22681838863806264,\n",
       " 3,\n",
       " array([[45.83882979, 45.83882979, 48.86117021, 48.86117021],\n",
       "        [45.16117021, 45.16117021, 48.13882979, 48.13882979]]))"
      ]
     },
     "execution_count": 21,
     "metadata": {},
     "output_type": "execute_result"
    }
   ],
   "source": [
    "chiVal, piVal, df, exp = chi2_contingency(df)\n",
    "chiVal, piVal, df, exp\n",
    "#p-value<5% we can reject the null hypotesis"
   ]
  },
  {
   "cell_type": "code",
   "execution_count": 22,
   "id": "8ab230b0",
   "metadata": {},
   "outputs": [
    {
     "name": "stdout",
     "output_type": "stream",
     "text": [
      "   Incumbente   Esp  Oposição  Esp2\n",
      "0        21.9  35.4      73.4  59.9\n",
      "1        48.4  34.9      45.3  58.8\n"
     ]
    }
   ],
   "source": [
    "#2014\n",
    "data = {'Incumbente':[21.9,48.4],\n",
    "       'Esp':[35.4,34.9],\n",
    "       'Oposição':[73.4,45.3],\n",
    "       'Esp2':[59.9,58.8]}\n",
    "\n",
    "\n",
    "df = pd.DataFrame(data)\n",
    "\n",
    "print(df)"
   ]
  },
  {
   "cell_type": "code",
   "execution_count": 23,
   "id": "949915a0",
   "metadata": {},
   "outputs": [
    {
     "data": {
      "text/plain": [
       "(16.62933148255837,\n",
       " 0.0008422697278207954,\n",
       " 3,\n",
       " array([[35.44756614, 35.44756614, 59.85243386, 59.85243386],\n",
       "        [34.85243386, 34.85243386, 58.84756614, 58.84756614]]))"
      ]
     },
     "execution_count": 23,
     "metadata": {},
     "output_type": "execute_result"
    }
   ],
   "source": [
    "chiVal, piVal, df, exp = chi2_contingency(df)\n",
    "chiVal, piVal, df, exp\n",
    "#pi-value<5% we can reject the null hypotesis"
   ]
  },
  {
   "cell_type": "code",
   "execution_count": 24,
   "id": "91ea4c4a",
   "metadata": {},
   "outputs": [
    {
     "name": "stdout",
     "output_type": "stream",
     "text": [
      "   Incumbente   Esp  Oposição  Esp2\n",
      "0        26.7  34.0      65.5  58.2\n",
      "1        40.6  33.3      49.8  57.1\n"
     ]
    }
   ],
   "source": [
    "#2018\n",
    "data = {'Incumbente':[26.7,40.6],\n",
    "       'Esp':[34,33.3],\n",
    "       'Oposição':[65.5,49.8],\n",
    "       'Esp2':[58.2,57.1]}\n",
    "\n",
    "\n",
    "df = pd.DataFrame(data)\n",
    "\n",
    "print(df)"
   ]
  },
  {
   "cell_type": "code",
   "execution_count": 25,
   "id": "a17ff924",
   "metadata": {},
   "outputs": [
    {
     "data": {
      "text/plain": [
       "(4.9914638924327415,\n",
       " 0.17242326820090192,\n",
       " 3,\n",
       " array([[33.98170865, 33.98170865, 58.21829135, 58.21829135],\n",
       "        [33.31829135, 33.31829135, 57.08170865, 57.08170865]]))"
      ]
     },
     "execution_count": 25,
     "metadata": {},
     "output_type": "execute_result"
    }
   ],
   "source": [
    "chiVal, piVal, df, exp = chi2_contingency(df)\n",
    "chiVal, piVal, df, exp\n",
    "#p-value < 5% we can reject the null hypotesis"
   ]
  },
  {
   "cell_type": "code",
   "execution_count": null,
   "id": "f91b5550",
   "metadata": {},
   "outputs": [],
   "source": []
  }
 ],
 "metadata": {
  "kernelspec": {
   "display_name": "Python 3 (ipykernel)",
   "language": "python",
   "name": "python3"
  },
  "language_info": {
   "codemirror_mode": {
    "name": "ipython",
    "version": 3
   },
   "file_extension": ".py",
   "mimetype": "text/x-python",
   "name": "python",
   "nbconvert_exporter": "python",
   "pygments_lexer": "ipython3",
   "version": "3.8.5"
  }
 },
 "nbformat": 4,
 "nbformat_minor": 5
}
