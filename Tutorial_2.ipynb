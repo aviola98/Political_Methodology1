{
 "cells": [
  {
   "cell_type": "markdown",
   "id": "969161a9",
   "metadata": {},
   "source": [
    "<h1 style=\"front-size=3rem;color:blue;\"> Tutorial_2</h1>"
   ]
  },
  {
   "cell_type": "code",
   "execution_count": 1,
   "id": "87b29ffe",
   "metadata": {},
   "outputs": [],
   "source": [
    "import numpy as np\n",
    "import pandas as pd"
   ]
  },
  {
   "cell_type": "markdown",
   "id": "70dbe7fb",
   "metadata": {},
   "source": [
    "# Abrindo o banco"
   ]
  },
  {
   "cell_type": "code",
   "execution_count": 18,
   "id": "da8eee38",
   "metadata": {},
   "outputs": [],
   "source": [
    "banco = pd.read_csv(\"candidatos_2018.csv\")"
   ]
  },
  {
   "cell_type": "markdown",
   "id": "0d2a9e36",
   "metadata": {},
   "source": [
    "# Acessando as Informações do banco"
   ]
  },
  {
   "cell_type": "code",
   "execution_count": 19,
   "id": "d191e52b",
   "metadata": {},
   "outputs": [
    {
     "data": {
      "text/plain": [
       "Index(['DT_GERACAO', 'HH_GERACAO', 'ANO_ELEICAO', 'CD_TIPO_ELEICAO',\n",
       "       'NM_TIPO_ELEICAO', 'NR_TURNO', 'CD_ELEICAO', 'DS_ELEICAO', 'DT_ELEICAO',\n",
       "       'TP_ABRANGENCIA', 'SG_UF', 'SG_UE', 'NM_UE', 'CD_CARGO', 'DS_CARGO',\n",
       "       'SQ_CANDIDATO', 'NR_CANDIDATO', 'NM_CANDIDATO', 'NM_URNA_CANDIDATO',\n",
       "       'NM_SOCIAL_CANDIDATO', 'NR_CPF_CANDIDATO', 'NM_EMAIL',\n",
       "       'CD_SITUACAO_CANDIDATURA', 'DS_SITUACAO_CANDIDATURA',\n",
       "       'CD_DETALHE_SITUACAO_CAND', 'DS_DETALHE_SITUACAO_CAND', 'TP_AGREMIACAO',\n",
       "       'NR_PARTIDO', 'SG_PARTIDO', 'NM_PARTIDO', 'SQ_COLIGACAO',\n",
       "       'NM_COLIGACAO', 'DS_COMPOSICAO_COLIGACAO', 'CD_NACIONALIDADE',\n",
       "       'DS_NACIONALIDADE', 'SG_UF_NASCIMENTO', 'CD_MUNICIPIO_NASCIMENTO',\n",
       "       'NM_MUNICIPIO_NASCIMENTO', 'DT_NASCIMENTO', 'NR_IDADE_DATA_POSSE',\n",
       "       'NR_TITULO_ELEITORAL_CANDIDATO', 'CD_GENERO', 'DS_GENERO',\n",
       "       'CD_GRAU_INSTRUCAO', 'DS_GRAU_INSTRUCAO', 'CD_ESTADO_CIVIL',\n",
       "       'DS_ESTADO_CIVIL', 'CD_COR_RACA', 'DS_COR_RACA', 'CD_OCUPACAO',\n",
       "       'DS_OCUPACAO', 'NR_DESPESA_MAX_CAMPANHA', 'CD_SIT_TOT_TURNO',\n",
       "       'DS_SIT_TOT_TURNO', 'ST_REELEICAO', 'ST_DECLARAR_BENS',\n",
       "       'NR_PROTOCOLO_CANDIDATURA', 'NR_PROCESSO', '%PDF-1.4'],\n",
       "      dtype='object')"
      ]
     },
     "execution_count": 19,
     "metadata": {},
     "output_type": "execute_result"
    }
   ],
   "source": [
    "banco.columns"
   ]
  },
  {
   "cell_type": "markdown",
   "id": "8e07227d",
   "metadata": {},
   "source": [
    "# Estatísticas descritivas"
   ]
  },
  {
   "cell_type": "code",
   "execution_count": 5,
   "id": "f8be0096",
   "metadata": {},
   "outputs": [
    {
     "data": {
      "text/plain": [
       "MASCULINO    19666\n",
       "FEMININO      8943\n",
       "Name: DS_GENERO, dtype: int64"
      ]
     },
     "execution_count": 5,
     "metadata": {},
     "output_type": "execute_result"
    }
   ],
   "source": [
    "banco.DS_GENERO.value_counts()"
   ]
  },
  {
   "cell_type": "code",
   "execution_count": 7,
   "id": "bdc1253c",
   "metadata": {},
   "outputs": [
    {
     "data": {
      "text/plain": [
       "BRANCA      15042\n",
       "PARDA       10168\n",
       "PRETA        3095\n",
       "AMARELA       172\n",
       "INDÍGENA      132\n",
       "Name: DS_COR_RACA, dtype: int64"
      ]
     },
     "execution_count": 7,
     "metadata": {},
     "output_type": "execute_result"
    }
   ],
   "source": [
    "banco.DS_COR_RACA.value_counts()"
   ]
  },
  {
   "cell_type": "code",
   "execution_count": 8,
   "id": "6ba4841a",
   "metadata": {},
   "outputs": [
    {
     "data": {
      "text/plain": [
       "47.86343458352267"
      ]
     },
     "execution_count": 8,
     "metadata": {},
     "output_type": "execute_result"
    }
   ],
   "source": [
    "banco.NR_IDADE_DATA_POSSE.mean()"
   ]
  },
  {
   "cell_type": "markdown",
   "id": "0419059c",
   "metadata": {},
   "source": [
    "a media de idade dos candidatos é de 47,8 anos"
   ]
  },
  {
   "cell_type": "code",
   "execution_count": 9,
   "id": "c23d3c0d",
   "metadata": {},
   "outputs": [
    {
     "data": {
      "text/plain": [
       "count    28609.000000\n",
       "mean        47.863435\n",
       "std         13.567615\n",
       "min         18.000000\n",
       "25%         40.000000\n",
       "50%         48.000000\n",
       "75%         56.000000\n",
       "max        999.000000\n",
       "Name: NR_IDADE_DATA_POSSE, dtype: float64"
      ]
     },
     "execution_count": 9,
     "metadata": {},
     "output_type": "execute_result"
    }
   ],
   "source": [
    "banco.NR_IDADE_DATA_POSSE.describe()"
   ]
  },
  {
   "cell_type": "markdown",
   "id": "67cdc4b4",
   "metadata": {},
   "source": [
    "# Filtering Observations"
   ]
  },
  {
   "cell_type": "code",
   "execution_count": 10,
   "id": "1b171afa",
   "metadata": {},
   "outputs": [
    {
     "data": {
      "text/plain": [
       "DEPUTADO ESTADUAL     17699\n",
       "DEPUTADO FEDERAL       8424\n",
       "DEPUTADO DISTRITAL      968\n",
       "2º SUPLENTE             372\n",
       "1º SUPLENTE             365\n",
       "SENADOR                 357\n",
       "VICE-GOVERNADOR         199\n",
       "GOVERNADOR              199\n",
       "VICE-PRESIDENTE          13\n",
       "PRESIDENTE               13\n",
       "Name: DS_CARGO, dtype: int64"
      ]
     },
     "execution_count": 10,
     "metadata": {},
     "output_type": "execute_result"
    }
   ],
   "source": [
    "#checking how the office names are named\n",
    "banco.DS_CARGO.value_counts()"
   ]
  },
  {
   "cell_type": "code",
   "execution_count": 11,
   "id": "021d3261",
   "metadata": {},
   "outputs": [],
   "source": [
    "#working with data related to Federal Deputies candidates\n",
    "dep_fed = banco[banco.DS_CARGO == 'DEPUTADO FEDERAL']"
   ]
  },
  {
   "cell_type": "markdown",
   "id": "f212445e",
   "metadata": {},
   "source": [
    "# Recoding variables"
   ]
  },
  {
   "cell_type": "code",
   "execution_count": 12,
   "id": "450425b7",
   "metadata": {},
   "outputs": [
    {
     "data": {
      "text/plain": [
       "BRANCA      4827\n",
       "PARDA       2586\n",
       "PRETA        911\n",
       "AMARELA       61\n",
       "INDÍGENA      39\n",
       "Name: DS_COR_RACA, dtype: int64"
      ]
     },
     "execution_count": 12,
     "metadata": {},
     "output_type": "execute_result"
    }
   ],
   "source": [
    "#changing the name of \"black,pardo,yellow and indigenous\" to \"non-white\"\n",
    "dep_fed.DS_COR_RACA.value_counts()"
   ]
  },
  {
   "cell_type": "code",
   "execution_count": 21,
   "id": "94eb815f",
   "metadata": {},
   "outputs": [],
   "source": [
    "#dep_fed.DS_COR_RACA.replace('PARDA','Não_Brancos').head()\n",
    "#dep_fed.DS_COR_RACA.replace('PRETA','Não_Brancos').head()\n",
    "#dep_fed.DS_COR_RACA.replace('INDIGENA','Não_Brancos').head()\n",
    "\n",
    "dep_fed.loc[np.in1d(dep_fed.DS_COR_RACA, ['PARDA','PRETA','INDÍGENA','AMARELA']),'DS_COR_RACA']=\"Não_Brancos\"\n",
    "dep_fed.loc[np.in1d(dep_fed.DS_COR_RACA,'BRANCA'),'DS_COR_RACA']='Brancos'"
   ]
  },
  {
   "cell_type": "code",
   "execution_count": 22,
   "id": "1c2cef85",
   "metadata": {},
   "outputs": [
    {
     "data": {
      "text/plain": [
       "Brancos        4827\n",
       "Não_Brancos    3597\n",
       "Name: DS_COR_RACA, dtype: int64"
      ]
     },
     "execution_count": 22,
     "metadata": {},
     "output_type": "execute_result"
    }
   ],
   "source": [
    "dep_fed.DS_COR_RACA.value_counts()"
   ]
  },
  {
   "cell_type": "markdown",
   "id": "d9a02a7b",
   "metadata": {},
   "source": [
    "# Graphs"
   ]
  },
  {
   "cell_type": "code",
   "execution_count": 23,
   "id": "3c9512f6",
   "metadata": {},
   "outputs": [],
   "source": [
    "import matplotlib.pyplot as plt"
   ]
  },
  {
   "cell_type": "code",
   "execution_count": 24,
   "id": "2e835689",
   "metadata": {},
   "outputs": [],
   "source": [
    "base = dep_fed.DS_COR_RACA.value_counts()"
   ]
  },
  {
   "cell_type": "code",
   "execution_count": 25,
   "id": "18898c1e",
   "metadata": {},
   "outputs": [],
   "source": [
    "index = base.index"
   ]
  },
  {
   "cell_type": "code",
   "execution_count": 26,
   "id": "1d29702e",
   "metadata": {},
   "outputs": [],
   "source": [
    "values = base.values"
   ]
  },
  {
   "cell_type": "code",
   "execution_count": 27,
   "id": "7fe8cd20",
   "metadata": {},
   "outputs": [
    {
     "data": {
      "text/plain": [
       "<BarContainer object of 2 artists>"
      ]
     },
     "execution_count": 27,
     "metadata": {},
     "output_type": "execute_result"
    },
    {
     "data": {
      "image/png": "[encoded data removed]",
      "text/plain": [
       "<Figure size 432x288 with 1 Axes>"
      ]
     },
     "metadata": {
      "needs_background": "light"
     },
     "output_type": "display_data"
    }
   ],
   "source": [
    "plt.bar(index,values)"
   ]
  },
  {
   "cell_type": "code",
   "execution_count": null,
   "id": "c517a986",
   "metadata": {},
   "outputs": [],
   "source": []
  }
 ],
 "metadata": {
  "kernelspec": {
   "display_name": "Python 3 (ipykernel)",
   "language": "python",
   "name": "python3"
  },
  "language_info": {
   "codemirror_mode": {
    "name": "ipython",
    "version": 3
   },
   "file_extension": ".py",
   "mimetype": "text/x-python",
   "name": "python",
   "nbconvert_exporter": "python",
   "pygments_lexer": "ipython3",
   "version": "3.8.5"
  }
 },
 "nbformat": 4,
 "nbformat_minor": 5
}
